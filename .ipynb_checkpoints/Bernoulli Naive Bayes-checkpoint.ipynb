{
 "cells": [
  {
   "cell_type": "code",
   "execution_count": 1,
   "metadata": {},
   "outputs": [],
   "source": [
    "import numpy as np\n",
    "import pandas as pd\n",
    "import sklearn as sk\n",
    "from sklearn.feature_extraction.text import CountVectorizer\n",
    "from scipy.sparse import csr_matrix"
   ]
  },
  {
   "cell_type": "code",
   "execution_count": 2,
   "metadata": {},
   "outputs": [
    {
     "name": "stdout",
     "output_type": "stream",
     "text": [
      "1499\n",
      "[[0 0 0 ... 0 0 0]]\n",
      "[1.11769304 0.89191905 0.70521108 ... 1.50648651 0.73222088 0.73446014]\n",
      "[0.85707693 0.98496935 0.98602413 ... 0.9798932  0.84738612 0.97514668]\n",
      "[[1 1 1 ... 1 1 1]]\n",
      "[0.98274357 1.0018526  1.00596025 ... 0.99314857 1.0705078  1.00930029]\n",
      "[-14.71049619]\n",
      "[nan]\n",
      "[nan]\n",
      "[nan]\n"
     ]
    },
    {
     "name": "stderr",
     "output_type": "stream",
     "text": [
      "C:\\Users\\AyeJay\\Anaconda3\\lib\\site-packages\\ipykernel_launcher.py:46: RuntimeWarning: invalid value encountered in log\n",
      "C:\\Users\\AyeJay\\Anaconda3\\lib\\site-packages\\ipykernel_launcher.py:53: RuntimeWarning: invalid value encountered in sign\n"
     ]
    },
    {
     "data": {
      "text/plain": [
       "array([nan])"
      ]
     },
     "execution_count": 2,
     "metadata": {},
     "output_type": "execute_result"
    }
   ],
   "source": [
    "class BNB():\n",
    "\n",
    "    _cVec = None\n",
    "    _features = None\n",
    "    _targets = None\n",
    "    _TS = None\n",
    "    _M = None\n",
    "    _indicators = None\n",
    "    _theta_one = None\n",
    "    _theta_zero = None\n",
    "    _theta_j_one = []\n",
    "    _theta_j_zero = []\n",
    "    \n",
    "    def __init__(self,features,targets):\n",
    "        #Expecting csr_matrix\n",
    "        ##Expecting features and targets (Targets are single dimension array)\n",
    "        self._cVec = CountVectorizer(binary=False,min_df=0.01) ##TODO ADD min_df, max_df,etc...\n",
    "        self._targets = targets\n",
    "        self._TS = targets.shape[0]\n",
    "        self._numO = (self._targets == 1).sum()\n",
    "        self._numZ = (self._targets == 0).sum()\n",
    "        self._theta_one = (self._targets == 1).sum()/targets.shape[0]\n",
    "        self._theta_zero = (self._targets == 0).sum()/targets.shape[0]\n",
    "        self._indicators = self._cVec.fit_transform(features)\n",
    "        self._features = self._cVec.get_feature_names()\n",
    "        self._M = len(self._features)\n",
    "        print(self._M)\n",
    "        ##TODO: Try looping over the indicators individually and from there use the self._target to check if suck value shall be\n",
    "        #updated in the corrosponding theta\n",
    "        for j in range(self._M):\n",
    "            self._theta_j_one.append((self._indicators.getcol(j).toarray()[self._targets.to_numpy() == 1].sum()+1)/(self._numO+2))\n",
    "            self._theta_j_zero.append((self._indicators.getcol(j).toarray()[self._targets.to_numpy() == 0].sum()+1)/(self._numZ+2))\n",
    "        \n",
    "        \n",
    "    def predict(self,features):\n",
    "        features = self._cVec.transform(features).toarray()\n",
    "        tot = np.log(np.array(self._theta_j_one)/np.array(self._theta_j_zero))\n",
    "        totm= np.log((1-np.array(self._theta_j_one))/(1-np.array(self._theta_j_zero)))\n",
    "        leftS = np.dot(features,tot)\n",
    "        print(leftS)\n",
    "        RighS = np.dot((1-features),totm)\n",
    "        print(RighS)\n",
    "        logL = leftS + RighS\n",
    "        print(logL)\n",
    "        logL = logL + np.log(self._theta_one/self._theta_zero)\n",
    "        print(logL)\n",
    "        return np.sign(logL)\n",
    "        \n",
    "    def eval_acc(self,features,targets):\n",
    "        self=self\n",
    "    \n",
    "    \n",
    "##Creating BNB\n",
    "data = pd.read_csv('train.csv', sep=',',header=0)\n",
    "data = data.replace('negative',0).replace('positive',1)\n",
    "feat = data['review']\n",
    "targ = data['sentiment']\n",
    "\n",
    "test = BNB(feat,targ)\n",
    "test.predict([\"Where to start? Some guy has some Indian pot that he's cleaning, and suddenly Skeletor attacks. He hits a woman in the neck with an axe, she falls down, but then gets up and is apparently uninjured. She runs into the woods, and it turns out there's the basement of a shopping center out there in the woods. She meets a utility worker and Skeletor attacks again. Luckily, like any good utility worker, he's got a gun and shoots at the guy. Doesn't work, everything starts on fire.Cut to some people walking through the woods. Even though they've been hiking together for some time, they sit down and introduce themselves to each other. Wouldn't they have probably done that when they first met? Anyhow, they're  Delta team members (undercover, I suppose, because that way they don't have to pay to dress them in uniforms). The cute girls are various things such as a sniper school instructor and, oh, I can't remember the rest. It doesn't matter. Eventually they all take their guns out and immediately start aiming them at various things. ? Anyhow, they meet an\"])"
   ]
  },
  {
   "cell_type": "code",
   "execution_count": null,
   "metadata": {},
   "outputs": [],
   "source": []
  },
  {
   "cell_type": "code",
   "execution_count": null,
   "metadata": {},
   "outputs": [],
   "source": []
  },
  {
   "cell_type": "code",
   "execution_count": null,
   "metadata": {},
   "outputs": [],
   "source": []
  }
 ],
 "metadata": {
  "kernelspec": {
   "display_name": "Python 3",
   "language": "python",
   "name": "python3"
  },
  "language_info": {
   "codemirror_mode": {
    "name": "ipython",
    "version": 3
   },
   "file_extension": ".py",
   "mimetype": "text/x-python",
   "name": "python",
   "nbconvert_exporter": "python",
   "pygments_lexer": "ipython3",
   "version": "3.7.4"
  }
 },
 "nbformat": 4,
 "nbformat_minor": 2
}
