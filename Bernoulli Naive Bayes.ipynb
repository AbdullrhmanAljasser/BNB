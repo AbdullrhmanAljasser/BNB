{
 "cells": [
  {
   "cell_type": "code",
   "execution_count": 1,
   "metadata": {},
   "outputs": [],
   "source": [
    "import numpy as np\n",
    "import pandas as pd\n",
    "import sklearn as sk\n",
    "from sklearn.feature_extraction.text import CountVectorizer\n",
    "from scipy.sparse import csr_matrix"
   ]
  },
  {
   "cell_type": "code",
   "execution_count": 2,
   "metadata": {},
   "outputs": [],
   "source": [
    "class BNB():\n",
    "\n",
    "    _cVec = None\n",
    "    _features = None\n",
    "    _targets = None\n",
    "    _TS = None\n",
    "    _M = None\n",
    "    _indicators = None\n",
    "    _theta_one = None\n",
    "    _theta_zero = None\n",
    "    _theta_j_one = []\n",
    "    _theta_j_zero = []\n",
    "    \n",
    "    def __init__(self,features,targets):\n",
    "        #Expecting csr_matrix\n",
    "        ##Expecting features and targets (Targets are single dimension array)\n",
    "        self._cVec = CountVectorizer(binary=True,min_df=0.01) ##TODO ADD min_df, max_df,etc...\n",
    "        self._targets = targets\n",
    "        self._TS = targets.shape[0]\n",
    "        self._numO = (self._targets == 1).sum()\n",
    "        self._numZ = (self._targets == 0).sum()\n",
    "        self._theta_one = (self._targets == 1).sum()/targets.shape[0]\n",
    "        self._theta_zero = (self._targets == 0).sum()/targets.shape[0]\n",
    "        self._indicators = self._cVec.fit_transform(features)\n",
    "        self._features = self._cVec.get_feature_names()\n",
    "        self._M = len(self._features)\n",
    "        ##TODO: Try looping over the indicators individually and from there use the self._target to check if suck value shall be\n",
    "        #updated in the corrosponding theta\n",
    "        for j in range(self._M):\n",
    "            self._theta_j_one.append(self._indicators.getcol(j).toarray()[self._targets.to_numpy() == 1].sum()/self._numO)\n",
    "            self._theta_j_zero.append(self._indicators.getcol(j).toarray()[self._targets.to_numpy() == 0].sum()/self._numZ)\n",
    "            \n",
    "##Creating BNB\n",
    "data = pd.read_csv('train.csv', sep=',',header=0)\n",
    "data = data.replace('negative',0).replace('positive',1)\n",
    "feat = data['review']\n",
    "targ = data['sentiment']\n",
    "\n",
    "test = BNB(feat,targ)"
   ]
  },
  {
   "cell_type": "code",
   "execution_count": null,
   "metadata": {},
   "outputs": [],
   "source": []
  },
  {
   "cell_type": "code",
   "execution_count": null,
   "metadata": {},
   "outputs": [],
   "source": []
  },
  {
   "cell_type": "code",
   "execution_count": null,
   "metadata": {},
   "outputs": [],
   "source": []
  }
 ],
 "metadata": {
  "kernelspec": {
   "display_name": "Python 3",
   "language": "python",
   "name": "python3"
  },
  "language_info": {
   "codemirror_mode": {
    "name": "ipython",
    "version": 3
   },
   "file_extension": ".py",
   "mimetype": "text/x-python",
   "name": "python",
   "nbconvert_exporter": "python",
   "pygments_lexer": "ipython3",
   "version": "3.7.4"
  }
 },
 "nbformat": 4,
 "nbformat_minor": 2
}
