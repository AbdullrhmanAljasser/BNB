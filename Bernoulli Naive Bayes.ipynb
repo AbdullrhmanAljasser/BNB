{
 "cells": [
  {
   "cell_type": "code",
   "execution_count": 1,
   "metadata": {},
   "outputs": [],
   "source": [
    "import numpy as np\n",
    "import pandas as pd\n",
    "import sklearn as sk\n",
    "from sklearn.feature_extraction.text import CountVectorizer\n",
    "from scipy.sparse import csr_matrix\n",
    "from sklearn.model_selection import KFold, StratifiedKFold"
   ]
  },
  {
   "cell_type": "code",
   "execution_count": null,
   "metadata": {},
   "outputs": [
    {
     "name": "stdout",
     "output_type": "stream",
     "text": [
      "[0. 1. 1. ... 1. 1. 1.] [0 1 0 ... 1 1 0]\n",
      "0.8068655224129312\n",
      "[1. 1. 0. ... 1. 0. 1.] [1 1 0 ... 1 0 1]\n",
      "0.8156973837693717\n",
      "[1. 0. 1. ... 1. 1. 1.] [0 0 1 ... 0 1 1]\n",
      "0.8215\n",
      "[1. 1. 0. ... 1. 1. 1.] [1 1 1 ... 1 0 1]\n",
      "0.8153025504250708\n"
     ]
    }
   ],
   "source": [
    "class BNB():\n",
    "\n",
    "    _cVec = None\n",
    "    _features = None\n",
    "    _targets = None\n",
    "    _TS = None\n",
    "    _M = None\n",
    "    _indicators = None\n",
    "    _theta_one = None\n",
    "    _theta_zero = None\n",
    "    _theta_j_one = []\n",
    "    _theta_j_zero = []\n",
    "    \n",
    "    def __init__(self,features,targets,max_f=5000):\n",
    "        self._theta_j_one = []\n",
    "        self._theta_j_zero = []\n",
    "        self._cVec = CountVectorizer(binary=True ,max_features=max_f) ##TODO ADD min_df, max_df,etc...\n",
    "        self._targets = targets\n",
    "        self._TS = targets.shape[0]\n",
    "        self._numO = (self._targets == 1).sum()\n",
    "        self._numZ = (self._targets == 0).sum()\n",
    "        self._theta_one = (self._targets == 1).sum()/targets.shape[0]\n",
    "        self._theta_zero = (self._targets == 0).sum()/targets.shape[0]\n",
    "        self._indicators = self._cVec.fit_transform(features)\n",
    "        self._features = self._cVec.get_feature_names()\n",
    "        self._M = len(self._features)\n",
    "        for j in range(self._M):\n",
    "            self._theta_j_one.append((self._indicators.getcol(j).toarray()[self._targets == 1].sum()+1)/(self._numO+2))\n",
    "            self._theta_j_zero.append((self._indicators.getcol(j).toarray()[self._targets == 0].sum()+1)/(self._numZ+2))\n",
    "        \n",
    "        \n",
    "    def predict(self,features):\n",
    "        predL = []\n",
    "        \n",
    "        features = self._cVec.transform(features).toarray()\n",
    "        \n",
    "        for i in range(features.shape[0]):\n",
    "            tot = np.log(np.array(self._theta_j_one)/np.array(self._theta_j_zero))\n",
    "            totmt= (1-np.array(self._theta_j_one))\n",
    "            totmb=(1-np.array(self._theta_j_zero))\n",
    "            totm= totmt/totmb\n",
    "            totm=np.log(totm)\n",
    "            leftS = features[i]@tot\n",
    "            RighS = (1-features[i])@totm\n",
    "            logL = leftS + RighS\n",
    "            logL = logL + np.log(self._theta_one/self._theta_zero)\n",
    "            predL.append(logL)\n",
    "        \n",
    "        x = np.sign(np.array(predL))\n",
    "        x[x<0] = 0\n",
    "        return x\n",
    "        \n",
    "    def eval_acc(self,features,targets):\n",
    "        pred = self.predict(features)\n",
    "        print(pred,targets)\n",
    "        return np.mean(pred == targets)\n",
    "\n",
    "df = pd.read_csv('train.csv', encoding='utf-8', index_col=None)\n",
    "skf = StratifiedKFold(n_splits=5, random_state=1, shuffle=True)\n",
    "X = np.array(df['review'])\n",
    "Y = np.array(df['sentiment'].replace('positive',1).replace('negative',0))\n",
    "for index, (train_index, test_index) in enumerate(skf.split(X, Y)):\n",
    "    X_train, X_valid, Y_train, Y_valid = X[train_index], X[test_index], Y[train_index], Y[test_index]\n",
    "    model = BNB(X_train,Y_train,max_f=2000)\n",
    "    print(model.eval_acc(X_valid,Y_valid))\n",
    "    del model ##WEIRD?!?!?!??"
   ]
  },
  {
   "cell_type": "code",
   "execution_count": null,
   "metadata": {},
   "outputs": [],
   "source": []
  },
  {
   "cell_type": "code",
   "execution_count": null,
   "metadata": {},
   "outputs": [],
   "source": []
  },
  {
   "cell_type": "code",
   "execution_count": null,
   "metadata": {},
   "outputs": [],
   "source": []
  }
 ],
 "metadata": {
  "kernelspec": {
   "display_name": "Python 3",
   "language": "python",
   "name": "python3"
  },
  "language_info": {
   "codemirror_mode": {
    "name": "ipython",
    "version": 3
   },
   "file_extension": ".py",
   "mimetype": "text/x-python",
   "name": "python",
   "nbconvert_exporter": "python",
   "pygments_lexer": "ipython3",
   "version": "3.7.4"
  }
 },
 "nbformat": 4,
 "nbformat_minor": 2
}
